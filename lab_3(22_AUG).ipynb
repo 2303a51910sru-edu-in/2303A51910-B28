{
  "nbformat": 4,
  "nbformat_minor": 0,
  "metadata": {
    "colab": {
      "provenance": [],
      "authorship_tag": "ABX9TyPllYo/G5YB+1qPAlCNx881",
      "include_colab_link": true
    },
    "kernelspec": {
      "name": "python3",
      "display_name": "Python 3"
    },
    "language_info": {
      "name": "python"
    }
  },
  "cells": [
    {
      "cell_type": "markdown",
      "metadata": {
        "id": "view-in-github",
        "colab_type": "text"
      },
      "source": [
        "<a href=\"https://colab.research.google.com/github/2303a51910sru-edu-in/2303A51910-B28-PDS/blob/main/lab_3(22_AUG).ipynb\" target=\"_parent\"><img src=\"https://colab.research.google.com/assets/colab-badge.svg\" alt=\"Open In Colab\"/></a>"
      ]
    },
    {
      "cell_type": "code",
      "execution_count": 1,
      "metadata": {
        "colab": {
          "base_uri": "https://localhost:8080/"
        },
        "id": "OZiW_zit5dLi",
        "outputId": "d3b65950-07c5-4593-dda9-c817a733624d"
      },
      "outputs": [
        {
          "output_type": "stream",
          "name": "stdout",
          "text": [
            "Test Scores (4x4 Matrix):\n",
            " [[88 78 64 92]\n",
            " [57 70 88 68]\n",
            " [72 60 60 73]\n",
            " [85 89 73 52]]\n",
            "\n",
            "Row-wise Mean: [80.5  70.75 66.25 74.75]\n",
            "Column-wise Mean: [75.5  74.25 71.25 71.25]\n",
            "\n",
            "Standard Deviation: 12.214073593605043\n",
            "Variance: 149.18359375\n",
            "\n",
            "Global Minimum: 52 at index (np.int64(3), np.int64(3))\n",
            "Global Maximum: 92 at index (np.int64(0), np.int64(3))\n"
          ]
        }
      ],
      "source": [
        "import numpy as np\n",
        "\n",
        "# Generate a 4x4 array of test scores (random integers between 50 and 100)\n",
        "np.random.seed(42)  # to keep results reproducible\n",
        "scores = np.random.randint(50, 101, size=(4, 4))\n",
        "print(\"Test Scores (4x4 Matrix):\\n\", scores)\n",
        "\n",
        "# Row-wise mean\n",
        "row_mean = np.mean(scores, axis=1)\n",
        "print(\"\\nRow-wise Mean:\", row_mean)\n",
        "\n",
        "# Column-wise mean\n",
        "col_mean = np.mean(scores, axis=0)\n",
        "print(\"Column-wise Mean:\", col_mean)\n",
        "\n",
        "# Standard deviation and variance (global)\n",
        "std_dev = np.std(scores)\n",
        "variance = np.var(scores)\n",
        "print(\"\\nStandard Deviation:\", std_dev)\n",
        "print(\"Variance:\", variance)\n",
        "\n",
        "# Global min, max and their indices\n",
        "global_min = np.min(scores)\n",
        "global_max = np.max(scores)\n",
        "min_index = np.unravel_index(np.argmin(scores), scores.shape)\n",
        "max_index = np.unravel_index(np.argmax(scores), scores.shape)\n",
        "\n",
        "print(\"\\nGlobal Minimum:\", global_min, \"at index\", min_index)\n",
        "print(\"Global Maximum:\", global_max, \"at index\", max_index)"
      ]
    },
    {
      "cell_type": "code",
      "source": [
        "import numpy as np\n",
        "import matplotlib.pyplot as plt\n",
        "\n",
        "# 1. Create a 3D NumPy array of shape (3x3x3) to simulate RGB image\n",
        "image = np.random.randint(0, 256, (3, 3, 3), dtype=np.uint8)\n",
        "print(\"Original RGB Image Array:\\n\", image)\n",
        "\n",
        "# 2. Extract red, green, and blue layers\n",
        "red_channel = image[:, :, 0]\n",
        "green_channel = image[:, :, 1]\n",
        "blue_channel = image[:, :, 2]\n",
        "\n",
        "print(\"\\nRed Channel:\\n\", red_channel)\n",
        "print(\"\\nGreen Channel:\\n\", green_channel)\n",
        "print(\"\\nBlue Channel:\\n\", blue_channel)\n",
        "\n",
        "# 3. Compute average pixel intensity per channel\n",
        "avg_red = np.mean(red_channel)\n",
        "avg_green = np.mean(green_channel)\n",
        "avg_blue = np.mean(blue_channel)\n",
        "\n",
        "print(f\"\\nAverage Red Intensity: {avg_red:.2f}\")\n",
        "print(f\"Average Green Intensity: {avg_green:.2f}\")\n",
        "print(f\"Average Blue Intensity: {avg_blue:.2f}\")\n",
        "\n",
        "# 4. Add a scalar to brighten the image (clip at 255)\n",
        "brightened_image = np.clip(image + 50, 0, 255).astype(np.uint8)\n",
        "print(\"\\nBrightened RGB Image Array:\\n\", brightened_image)\n",
        "\n",
        "# 5. Visualize image matrix and color channels\n",
        "fig, axs = plt.subplots(2, 3, figsize=(10, 6))\n",
        "\n",
        "# Individual Channels\n",
        "axs[0, 0].imshow(red_channel, cmap='Reds')\n",
        "axs[0, 0].set_title(\"Red Channel\")\n",
        "axs[0, 0].axis('off')\n",
        "\n",
        "axs[0, 1].imshow(green_channel, cmap='Greens')\n",
        "axs[0, 1].set_title(\"Green Channel\")\n",
        "axs[0, 1].axis('off')\n",
        "\n",
        "axs[0, 2].imshow(blue_channel, cmap='Blues')\n",
        "axs[0, 2].set_title(\"Blue Channel\")\n",
        "axs[0, 2].axis('off')\n",
        "\n",
        "# Original and Brightened Images\n",
        "axs[1, 0].imshow(image)\n",
        "axs[1, 0].set_title(\"Original Image\")\n",
        "axs[1, 0].axis('off')\n",
        "\n",
        "axs[1, 1].imshow(brightened_image)\n",
        "axs[1, 1].set_title(\"Brightened Image\")\n",
        "axs[1, 1].axis('off')\n",
        "\n",
        "# Hide last empty subplot\n",
        "axs[1, 2].axis('off')\n",
        "\n",
        "plt.tight_layout()\n",
        "plt.show()\n"
      ],
      "metadata": {
        "colab": {
          "base_uri": "https://localhost:8080/",
          "height": 1000
        },
        "id": "zlnzAWNP6l0V",
        "outputId": "33359180-40bb-4ab0-8faf-01be9859f25a"
      },
      "execution_count": 2,
      "outputs": [
        {
          "output_type": "stream",
          "name": "stdout",
          "text": [
            "Original RGB Image Array:\n",
            " [[[149   6  69]\n",
            "  [  5  52 253]\n",
            "  [112  14   1]]\n",
            "\n",
            " [[  3  76 248]\n",
            "  [ 87 233 212]\n",
            "  [184 235 245]]\n",
            "\n",
            " [[ 26 213 157]\n",
            "  [253  68 240]\n",
            "  [ 37 219  91]]]\n",
            "\n",
            "Red Channel:\n",
            " [[149   5 112]\n",
            " [  3  87 184]\n",
            " [ 26 253  37]]\n",
            "\n",
            "Green Channel:\n",
            " [[  6  52  14]\n",
            " [ 76 233 235]\n",
            " [213  68 219]]\n",
            "\n",
            "Blue Channel:\n",
            " [[ 69 253   1]\n",
            " [248 212 245]\n",
            " [157 240  91]]\n",
            "\n",
            "Average Red Intensity: 95.11\n",
            "Average Green Intensity: 124.00\n",
            "Average Blue Intensity: 168.44\n",
            "\n",
            "Brightened RGB Image Array:\n",
            " [[[199  56 119]\n",
            "  [ 55 102  47]\n",
            "  [162  64  51]]\n",
            "\n",
            " [[ 53 126  42]\n",
            "  [137  27   6]\n",
            "  [234  29  39]]\n",
            "\n",
            " [[ 76   7 207]\n",
            "  [ 47 118  34]\n",
            "  [ 87  13 141]]]\n"
          ]
        },
        {
          "output_type": "display_data",
          "data": {
            "text/plain": [
              "<Figure size 1000x600 with 6 Axes>"
            ],
            "image/png": "[encoded data removed]"
          },
          "metadata": {}
        }
      ]
    }
  ]
}